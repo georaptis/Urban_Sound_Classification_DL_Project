{
 "cells": [
  {
   "cell_type": "code",
   "execution_count": 1,
   "metadata": {},
   "outputs": [],
   "source": [
    "import matplotlib.pyplot as plt\n",
    "import plotly.figure_factory as ff\n",
    "from tensorflow.keras.utils import to_categorical\n",
    "from sklearn.model_selection import train_test_split\n",
    "\n",
    "from keras.models import Sequential\n",
    "from keras.layers import Conv2D, MaxPooling2D\n",
    "from keras.layers import Flatten, Dense\n",
    "\n",
    "from tensorflow.keras.callbacks import EarlyStopping\n",
    "import os\n",
    "from sklearn.metrics import confusion_matrix\n",
    "from sklearn.preprocessing import LabelEncoder\n",
    "from tensorflow.keras.applications import MobileNetV2\n",
    "from tensorflow.keras.applications.mobilenet import preprocess_input\n",
    "\n",
    "from sklearn.metrics import accuracy_score, confusion_matrix\n",
    "import seaborn as sns\n",
    "import matplotlib.pyplot as plt\n",
    "import numpy as np\n",
    "from keras.preprocessing import image\n",
    "import librosa\n"
   ]
  },
  {
   "cell_type": "code",
   "execution_count": 3,
   "metadata": {},
   "outputs": [],
   "source": [
    "classes = [\"children_playing\", \"drilling\", \"street_music\", \"siren\", \"gun_shot\", \"car_horn\", \"air_conditioner\", \"engine_idling\",  \"dog_bark\", \"jackhammer\"]\n",
    "\n",
    "directory = 'C:\\\\Users\\\\giorg\\\\OneDrive\\\\Υπολογιστής\\\\DL Project\\\\UrbanSound'\n",
    "os.chdir(directory)\n"
   ]
  },
  {
   "cell_type": "code",
   "execution_count": 4,
   "metadata": {},
   "outputs": [],
   "source": [
    "def create_spectrogram(audio_file, image_file):\n",
    "    fig = plt.figure(figsize=(4, 4))  # 4x4 inches figure to help with aspect ratio\n",
    "    ax = fig.add_subplot(1, 1, 1)\n",
    "    fig.subplots_adjust(left=0, right=1, bottom=0, top=1)\n",
    "\n",
    "    y, sr = librosa.load(audio_file)\n",
    "    ms = librosa.feature.melspectrogram(y=y, sr=sr)\n",
    "    log_ms = librosa.power_to_db(ms, ref=np.max)\n",
    "    img = librosa.display.specshow(log_ms, sr=sr, ax=ax)\n",
    "\n",
    "    fig.savefig(image_file, bbox_inches='tight', pad_inches=0)\n",
    "    plt.close(fig)  # Close the figure to free up memory\n",
    "\n",
    "\n",
    "def datapreprocessing(x, y):\n",
    "    le = LabelEncoder()\n",
    "    x = np.array(x)\n",
    "    normalized_data = x.astype('float32') / 255.0\n",
    "\n",
    "    y_encoded = le.fit_transform(y)\n",
    "    y_encoded = to_categorical(y_encoded)\n",
    "    return normalized_data, y_encoded\n",
    "\n",
    "\n",
    "def create_pngs_from_wavs(input_path, output_path):\n",
    "    if not os.path.exists(output_path):\n",
    "        os.makedirs(output_path)\n",
    "    folder_name = os.path.basename(os.path.normpath(input_path))\n",
    "    for file in os.listdir(input_path):\n",
    "        if file.endswith('.wav'):\n",
    "            input_file = os.path.join(input_path, file)\n",
    "            base_name = os.path.splitext(file)[0]\n",
    "            output_file_name = f\"{base_name}-{folder_name}.png\"\n",
    "            output_file = os.path.join(output_path, output_file_name)\n",
    "            create_spectrogram(input_file, output_file)\n",
    "\n",
    "def load_images_from_path(path, label):\n",
    "    images = []\n",
    "    labels = []\n",
    "\n",
    "    for file in os.listdir(path):\n",
    "        if file.endswith('.png'):  \n",
    "            images.append(image.img_to_array(image.load_img(os.path.join(path, file), target_size=(224, 224, 3))))\n",
    "            labels.append(label)\n",
    "\n",
    "    return images, labels\n",
    "\n",
    "\n",
    "def show_images(images):\n",
    "    fig, axes = plt.subplots(1, 8, figsize=(20, 20), subplot_kw={'xticks': [], 'yticks': []})\n",
    "\n",
    "    for i, ax in enumerate(axes.flat):\n",
    "        ax.imshow(images[i] / 255)\n",
    "\n",
    "\n"
   ]
  },
  {
   "cell_type": "markdown",
   "metadata": {},
   "source": [
    "The next function will create the spectogramms of the sounds we  hear in the specified directory"
   ]
  },
  {
   "cell_type": "code",
   "execution_count": 7,
   "metadata": {},
   "outputs": [],
   "source": [
    "\n",
    "\n",
    "classes = [\"children_playing\", \"drilling\", \"street_music\", \"siren\", \"gun_shot\", \"car_horn\", \"air_conditioner\", \"engine_idling\",  \"dog_bark\", \"jackhammer\"]\n",
    "\n",
    "for class_name in classes:\n",
    "    input_path = f'Train/{class_name}'\n",
    "    output_path = f'Images/Spectrograms/{class_name}'\n",
    "    create_pngs_from_wavs(input_path, output_path)\n"
   ]
  },
  {
   "cell_type": "code",
   "execution_count": 7,
   "metadata": {},
   "outputs": [],
   "source": [
    "x = []\n",
    "y = []\n",
    "\n",
    "for class_index, class_name in enumerate(classes):\n",
    "    images, labels = load_images_from_path(f'Spectrograms/{class_name}', class_index)\n",
    "    # Calculate the number of images to load (half of the total)\n",
    "    num_images_to_load = len(images) \n",
    "    # Load only the first half of the images and labels\n",
    "    x += images[:num_images_to_load]\n",
    "    y += labels[:num_images_to_load]"
   ]
  },
  {
   "cell_type": "code",
   "execution_count": 5,
   "metadata": {},
   "outputs": [],
   "source": [
    "x , y = datapreprocessing(x, y)\n",
    "x_train, x_val, y_train, y_val = train_test_split(x, y, stratify=y, test_size=0.3, random_state=0)"
   ]
  },
  {
   "cell_type": "code",
   "execution_count": null,
   "metadata": {},
   "outputs": [],
   "source": [
    "model = Sequential()\n",
    "model.add(Conv2D(32, (3, 3), activation='relu', input_shape=(224, 224, 3)))\n",
    "model.add(MaxPooling2D(2, 2))\n",
    "model.add(Conv2D(128, (3, 3), activation='relu'))\n",
    "model.add(MaxPooling2D(2, 2))\n",
    "model.add(Conv2D(128, (3, 3), activation='relu'))\n",
    "model.add(MaxPooling2D(2, 2))\n",
    "model.add(Conv2D(128, (3, 3), activation='relu'))\n",
    "model.add(MaxPooling2D(2, 2))\n",
    "model.add(Flatten())\n",
    "model.add(Dense(1024, activation='relu'))\n",
    "model.add(Dense(10, activation='softmax'))\n",
    "model.compile(optimizer='adam', loss='categorical_crossentropy', metrics=['accuracy'])\n",
    "model.summary()"
   ]
  },
  {
   "cell_type": "code",
   "execution_count": null,
   "metadata": {},
   "outputs": [],
   "source": [
    "hist = model.fit(x_train, y_train, validation_data=(x_val, y_val), batch_size=10, epochs=10)"
   ]
  },
  {
   "cell_type": "code",
   "execution_count": null,
   "metadata": {},
   "outputs": [],
   "source": [
    "base_model = MobileNetV2(weights='imagenet', include_top=False, input_shape=(224, 224, 3))\n",
    "\n",
    "x_train_norm = preprocess_input(np.array(x_train))\n",
    "x_test_norm = preprocess_input(np.array(x_val))\n",
    "\n",
    "train_features = base_model.predict(x_train_norm)\n",
    "test_features = base_model.predict(x_test_norm)"
   ]
  },
  {
   "cell_type": "code",
   "execution_count": 66,
   "metadata": {},
   "outputs": [],
   "source": [
    "model = Sequential()\n",
    "model.add(Flatten(input_shape=train_features.shape[1:]))\n",
    "model.add(Dense(1024, activation='relu'))\n",
    "model.add(Dense(10, activation='softmax'))\n",
    "model.compile(optimizer='adam', loss='categorical_crossentropy', metrics=['accuracy'])"
   ]
  },
  {
   "cell_type": "code",
   "execution_count": 67,
   "metadata": {},
   "outputs": [
    {
     "name": "stdout",
     "output_type": "stream",
     "text": [
      "Epoch 1/10\n",
      "\u001b[1m381/381\u001b[0m \u001b[32m━━━━━━━━━━━━━━━━━━━━\u001b[0m\u001b[37m\u001b[0m \u001b[1m159s\u001b[0m 415ms/step - accuracy: 0.6336 - loss: 10.6309 - val_accuracy: 0.7756 - val_loss: 0.7465\n",
      "Epoch 2/10\n",
      "\u001b[1m381/381\u001b[0m \u001b[32m━━━━━━━━━━━━━━━━━━━━\u001b[0m\u001b[37m\u001b[0m \u001b[1m159s\u001b[0m 417ms/step - accuracy: 0.9101 - loss: 0.2990 - val_accuracy: 0.8522 - val_loss: 0.5923\n",
      "Epoch 3/10\n",
      "\u001b[1m381/381\u001b[0m \u001b[32m━━━━━━━━━━━━━━━━━━━━\u001b[0m\u001b[37m\u001b[0m \u001b[1m159s\u001b[0m 418ms/step - accuracy: 0.9418 - loss: 0.1870 - val_accuracy: 0.8596 - val_loss: 0.6832\n",
      "Epoch 4/10\n",
      "\u001b[1m381/381\u001b[0m \u001b[32m━━━━━━━━━━━━━━━━━━━━\u001b[0m\u001b[37m\u001b[0m \u001b[1m162s\u001b[0m 426ms/step - accuracy: 0.9593 - loss: 0.1254 - val_accuracy: 0.8737 - val_loss: 0.6489\n",
      "Epoch 5/10\n",
      "\u001b[1m381/381\u001b[0m \u001b[32m━━━━━━━━━━━━━━━━━━━━\u001b[0m\u001b[37m\u001b[0m \u001b[1m163s\u001b[0m 428ms/step - accuracy: 0.9741 - loss: 0.0876 - val_accuracy: 0.9160 - val_loss: 0.4923\n",
      "Epoch 6/10\n",
      "\u001b[1m381/381\u001b[0m \u001b[32m━━━━━━━━━━━━━━━━━━━━\u001b[0m\u001b[37m\u001b[0m \u001b[1m162s\u001b[0m 426ms/step - accuracy: 0.9658 - loss: 0.1052 - val_accuracy: 0.8841 - val_loss: 0.6919\n",
      "Epoch 7/10\n",
      "\u001b[1m381/381\u001b[0m \u001b[32m━━━━━━━━━━━━━━━━━━━━\u001b[0m\u001b[37m\u001b[0m \u001b[1m174s\u001b[0m 457ms/step - accuracy: 0.9748 - loss: 0.1087 - val_accuracy: 0.8522 - val_loss: 1.1721\n",
      "Epoch 8/10\n",
      "\u001b[1m381/381\u001b[0m \u001b[32m━━━━━━━━━━━━━━━━━━━━\u001b[0m\u001b[37m\u001b[0m \u001b[1m169s\u001b[0m 444ms/step - accuracy: 0.9523 - loss: 0.2499 - val_accuracy: 0.8608 - val_loss: 0.8671\n",
      "Epoch 9/10\n",
      "\u001b[1m381/381\u001b[0m \u001b[32m━━━━━━━━━━━━━━━━━━━━\u001b[0m\u001b[37m\u001b[0m \u001b[1m168s\u001b[0m 442ms/step - accuracy: 0.9589 - loss: 0.1940 - val_accuracy: 0.8866 - val_loss: 0.9963\n",
      "Epoch 10/10\n",
      "\u001b[1m381/381\u001b[0m \u001b[32m━━━━━━━━━━━━━━━━━━━━\u001b[0m\u001b[37m\u001b[0m \u001b[1m164s\u001b[0m 430ms/step - accuracy: 0.9611 - loss: 0.2051 - val_accuracy: 0.8884 - val_loss: 0.9617\n"
     ]
    }
   ],
   "source": [
    "hist = model.fit(train_features, y_train_encoded, validation_data=(test_features, y_test_encoded), batch_size=10, epochs=10)"
   ]
  },
  {
   "cell_type": "code",
   "execution_count": null,
   "metadata": {},
   "outputs": [],
   "source": []
  }
 ],
 "metadata": {
  "kernelspec": {
   "display_name": "dlenv",
   "language": "python",
   "name": "python3"
  },
  "language_info": {
   "codemirror_mode": {
    "name": "ipython",
    "version": 3
   },
   "file_extension": ".py",
   "mimetype": "text/x-python",
   "name": "python",
   "nbconvert_exporter": "python",
   "pygments_lexer": "ipython3",
   "version": "3.10.14"
  }
 },
 "nbformat": 4,
 "nbformat_minor": 2
}
